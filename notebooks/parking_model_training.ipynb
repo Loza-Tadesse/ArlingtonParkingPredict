{
 "cells": [
  {
   "cell_type": "markdown",
   "id": "38d7d508",
   "metadata": {},
   "source": [
    "# Parking Occupancy Model Training\n",
    "Train and evaluate a regression model that forecasts hourly parking occupancy by street using preprocessed features."
   ]
  },
  {
   "cell_type": "markdown",
   "id": "76316894",
   "metadata": {},
   "source": [
    "## Set Up Environment\n",
    "Import core libraries, configure paths, and ensure deterministic behavior across runs."
   ]
  },
  {
   "cell_type": "code",
   "execution_count": 1,
   "id": "66e1a7e8",
   "metadata": {},
   "outputs": [
    {
     "data": {
      "text/plain": [
       "(PosixPath('/Users/philipt/ArlingtonParkingPredict/models/occupancy/lightgbm_parking_occupancy.txt'),\n",
       " PosixPath('/Users/philipt/ArlingtonParkingPredict/models/occupancy/model_metrics.json'),\n",
       " PosixPath('/Users/philipt/ArlingtonParkingPredict/models/occupancy/feature_importance.csv'))"
      ]
     },
     "execution_count": 1,
     "metadata": {},
     "output_type": "execute_result"
    }
   ],
   "source": [
    "# Imports and configuration\n",
    "from pathlib import Path\n",
    "import json\n",
    "import joblib\n",
    "import numpy as np\n",
    "import pandas as pd\n",
    "import lightgbm as lgb\n",
    "from sklearn.metrics import mean_squared_error, mean_absolute_error\n",
    "from sklearn.model_selection import GridSearchCV\n",
    "from sklearn.model_selection import KFold\n",
    "from sklearn.model_selection import train_test_split\n",
    "import matplotlib.pyplot as plt\n",
    "import seaborn as sns\n",
    "\n",
    "pd.set_option(\"display.max_columns\", None)\n",
    "pd.set_option(\"display.max_rows\", 100)\n",
    "\n",
    "BASE_DIR = Path(\"..\").resolve()\n",
    "PROCESSED_DIR = BASE_DIR / \"data\" / \"processed\"\n",
    "ARTIFACT_DIR = BASE_DIR / \"models\" / \"occupancy\"\n",
    "MODEL_PATH = ARTIFACT_DIR / \"lightgbm_parking_occupancy.txt\"\n",
    "METRICS_PATH = ARTIFACT_DIR / \"model_metrics.json\"\n",
    "FEATURE_IMPORTANCE_PATH = ARTIFACT_DIR / \"feature_importance.csv\"\n",
    "\n",
    "PROCESSED_DIR.mkdir(parents=True, exist_ok=True)\n",
    "ARTIFACT_DIR.mkdir(parents=True, exist_ok=True)\n",
    "\n",
    "MODEL_PATH, METRICS_PATH, FEATURE_IMPORTANCE_PATH"
   ]
  },
  {
   "cell_type": "markdown",
   "id": "c90b3279",
   "metadata": {},
   "source": [
    "## Load Processed Datasets\n",
    "Load train, validation, and test splits generated during preprocessing."
   ]
  },
  {
   "cell_type": "code",
   "execution_count": 2,
   "id": "2140373c",
   "metadata": {},
   "outputs": [
    {
     "data": {
      "text/html": [
       "<div>\n",
       "<style scoped>\n",
       "    .dataframe tbody tr th:only-of-type {\n",
       "        vertical-align: middle;\n",
       "    }\n",
       "\n",
       "    .dataframe tbody tr th {\n",
       "        vertical-align: top;\n",
       "    }\n",
       "\n",
       "    .dataframe thead th {\n",
       "        text-align: right;\n",
       "    }\n",
       "</style>\n",
       "<table border=\"1\" class=\"dataframe\">\n",
       "  <thead>\n",
       "    <tr style=\"text-align: right;\">\n",
       "      <th></th>\n",
       "      <th>street</th>\n",
       "      <th>day_of_week</th>\n",
       "      <th>hour_of_day</th>\n",
       "      <th>month</th>\n",
       "      <th>is_weekend</th>\n",
       "      <th>hour_sin</th>\n",
       "      <th>hour_cos</th>\n",
       "      <th>occupancy</th>\n",
       "    </tr>\n",
       "  </thead>\n",
       "  <tbody>\n",
       "    <tr>\n",
       "      <th>0</th>\n",
       "      <td>0.445696</td>\n",
       "      <td>-0.324792</td>\n",
       "      <td>0.512040</td>\n",
       "      <td>-1.250139</td>\n",
       "      <td>-0.441732</td>\n",
       "      <td>-0.953504</td>\n",
       "      <td>-0.200632</td>\n",
       "      <td>59</td>\n",
       "    </tr>\n",
       "    <tr>\n",
       "      <th>1</th>\n",
       "      <td>0.445696</td>\n",
       "      <td>-1.521257</td>\n",
       "      <td>1.354831</td>\n",
       "      <td>-1.250139</td>\n",
       "      <td>-0.441732</td>\n",
       "      <td>-0.953504</td>\n",
       "      <td>1.546199</td>\n",
       "      <td>32</td>\n",
       "    </tr>\n",
       "    <tr>\n",
       "      <th>2</th>\n",
       "      <td>-1.316821</td>\n",
       "      <td>1.469906</td>\n",
       "      <td>-0.752148</td>\n",
       "      <td>-1.250139</td>\n",
       "      <td>2.263818</td>\n",
       "      <td>1.013203</td>\n",
       "      <td>-0.840016</td>\n",
       "      <td>2</td>\n",
       "    </tr>\n",
       "    <tr>\n",
       "      <th>3</th>\n",
       "      <td>-0.422005</td>\n",
       "      <td>-1.521257</td>\n",
       "      <td>-0.541450</td>\n",
       "      <td>0.651905</td>\n",
       "      <td>-0.441732</td>\n",
       "      <td>0.665968</td>\n",
       "      <td>-1.014525</td>\n",
       "      <td>11</td>\n",
       "    </tr>\n",
       "    <tr>\n",
       "      <th>4</th>\n",
       "      <td>-1.343937</td>\n",
       "      <td>-1.521257</td>\n",
       "      <td>-0.962846</td>\n",
       "      <td>-1.250139</td>\n",
       "      <td>-0.441732</td>\n",
       "      <td>1.311381</td>\n",
       "      <td>-0.562412</td>\n",
       "      <td>30</td>\n",
       "    </tr>\n",
       "  </tbody>\n",
       "</table>\n",
       "</div>"
      ],
      "text/plain": [
       "     street  day_of_week  hour_of_day     month  is_weekend  hour_sin  \\\n",
       "0  0.445696    -0.324792     0.512040 -1.250139   -0.441732 -0.953504   \n",
       "1  0.445696    -1.521257     1.354831 -1.250139   -0.441732 -0.953504   \n",
       "2 -1.316821     1.469906    -0.752148 -1.250139    2.263818  1.013203   \n",
       "3 -0.422005    -1.521257    -0.541450  0.651905   -0.441732  0.665968   \n",
       "4 -1.343937    -1.521257    -0.962846 -1.250139   -0.441732  1.311381   \n",
       "\n",
       "   hour_cos  occupancy  \n",
       "0 -0.200632         59  \n",
       "1  1.546199         32  \n",
       "2 -0.840016          2  \n",
       "3 -1.014525         11  \n",
       "4 -0.562412         30  "
      ]
     },
     "execution_count": 2,
     "metadata": {},
     "output_type": "execute_result"
    }
   ],
   "source": [
    "train_path = PROCESSED_DIR / \"occupancy_train.parquet\"\n",
    "val_path = PROCESSED_DIR / \"occupancy_val.parquet\"\n",
    "test_path = PROCESSED_DIR / \"occupancy_test.parquet\"\n",
    "metadata_path = ARTIFACT_DIR / \"preprocessing_metadata.json\"\n",
    "pipeline_path = ARTIFACT_DIR / \"preprocessing_pipeline.joblib\"\n",
    "\n",
    "for path in [train_path, val_path, test_path]:\n",
    "    if not path.exists():\n",
    "        raise FileNotFoundError(f\"Missing processed dataset: {path}\")\n",
    "\n",
    "train_df = pd.read_parquet(train_path)\n",
    "val_df = pd.read_parquet(val_path)\n",
    "test_df = pd.read_parquet(test_path)\n",
    "\n",
    "with metadata_path.open() as fh:\n",
    "    preprocessing_metadata = json.load(fh)\n",
    "preprocessing_pipeline = joblib.load(pipeline_path)\n",
    "\n",
    "train_df.head()"
   ]
  },
  {
   "cell_type": "markdown",
   "id": "c3e5caf4",
   "metadata": {},
   "source": [
    "## Inspect Split Shapes\n",
    "Confirm dataset sizes and target distribution prior to training."
   ]
  },
  {
   "cell_type": "code",
   "execution_count": 3,
   "id": "fa116a39",
   "metadata": {},
   "outputs": [
    {
     "name": "stdout",
     "output_type": "stream",
     "text": [
      "Train: 108,692 rows | 8 columns\n",
      "Target stats:\n",
      "count    108692.000000\n",
      "mean         20.129559\n",
      "std          36.090209\n",
      "min           1.000000\n",
      "50%           8.000000\n",
      "75%          21.000000\n",
      "90%          49.000000\n",
      "95%          77.000000\n",
      "max         499.000000\n",
      "Name: occupancy, dtype: float64\n",
      "-\n",
      "Validation: 23,296 rows | 8 columns\n",
      "Target stats:\n",
      "count    23296.000000\n",
      "mean        20.127919\n",
      "std         35.928506\n",
      "min          1.000000\n",
      "50%          8.000000\n",
      "75%         21.000000\n",
      "90%         50.000000\n",
      "95%         77.000000\n",
      "max        364.000000\n",
      "Name: occupancy, dtype: float64\n",
      "-\n",
      "Test: 23,293 rows | 8 columns\n",
      "Target stats:\n",
      "count    23293.000000\n",
      "mean        20.172627\n",
      "std         36.280094\n",
      "min          1.000000\n",
      "50%          8.000000\n",
      "75%         21.000000\n",
      "90%         49.000000\n",
      "95%         78.000000\n",
      "max        355.000000\n",
      "Name: occupancy, dtype: float64\n",
      "-\n"
     ]
    }
   ],
   "source": [
    "def summarize_split(name: str, frame: pd.DataFrame) -> None:\n",
    "    print(f\"{name}: {len(frame):,} rows | {frame.shape[1]} columns\")\n",
    "    print(\"Target stats:\")\n",
    "    print(frame['occupancy'].describe(percentiles=[0.5, 0.75, 0.9, 0.95]))\n",
    "    print(\"-\")\n",
    "\n",
    "summarize_split(\"Train\", train_df)\n",
    "summarize_split(\"Validation\", val_df)\n",
    "summarize_split(\"Test\", test_df)"
   ]
  },
  {
   "cell_type": "markdown",
   "id": "0d4b4e6f",
   "metadata": {},
   "source": [
    "## Prepare Feature Matrices\n",
    "Separate features from the target column and confirm shapes for LightGBM."
   ]
  },
  {
   "cell_type": "code",
   "execution_count": 4,
   "id": "41c9e7e6",
   "metadata": {},
   "outputs": [
    {
     "data": {
      "text/plain": [
       "((108692, 7), (23296, 7), (23293, 7))"
      ]
     },
     "execution_count": 4,
     "metadata": {},
     "output_type": "execute_result"
    }
   ],
   "source": [
    "feature_columns = [col for col in train_df.columns if col != \"occupancy\"]\n",
    "target_column = \"occupancy\"\n",
    "\n",
    "X_train = train_df[feature_columns]\n",
    "y_train = train_df[target_column]\n",
    "X_val = val_df[feature_columns]\n",
    "y_val = val_df[target_column]\n",
    "X_test = test_df[feature_columns]\n",
    "y_test = test_df[target_column]\n",
    "\n",
    "X_train.shape, X_val.shape, X_test.shape"
   ]
  },
  {
   "cell_type": "markdown",
   "id": "328c9840",
   "metadata": {},
   "source": [
    "## Train LightGBM Regressor\n",
    "Fit a gradient boosting model with early stopping based on validation RMSE."
   ]
  },
  {
   "cell_type": "code",
   "execution_count": 5,
   "id": "a156bb7a",
   "metadata": {},
   "outputs": [
    {
     "name": "stdout",
     "output_type": "stream",
     "text": [
      "[LightGBM] [Info] Total Bins 215\n",
      "[LightGBM] [Info] Number of data points in the train set: 108692, number of used features: 7\n",
      "[LightGBM] [Info] Start training from score 3.002189\n",
      "Training until validation scores don't improve for 50 rounds\n",
      "[50]\ttrain's rmse: 16.158\tval's rmse: 15.9587\n",
      "[100]\ttrain's rmse: 10.8105\tval's rmse: 10.6493\n",
      "[150]\ttrain's rmse: 8.89378\tval's rmse: 8.78185\n",
      "[200]\ttrain's rmse: 8.07808\tval's rmse: 8.00943\n",
      "[250]\ttrain's rmse: 7.63841\tval's rmse: 7.60333\n",
      "[300]\ttrain's rmse: 7.34573\tval's rmse: 7.33306\n",
      "[350]\ttrain's rmse: 7.13226\tval's rmse: 7.1487\n",
      "[400]\ttrain's rmse: 6.99008\tval's rmse: 7.02757\n",
      "[450]\ttrain's rmse: 6.85875\tval's rmse: 6.91002\n",
      "[500]\ttrain's rmse: 6.75876\tval's rmse: 6.83985\n",
      "[550]\ttrain's rmse: 6.69583\tval's rmse: 6.79018\n",
      "[600]\ttrain's rmse: 6.62703\tval's rmse: 6.74129\n",
      "[650]\ttrain's rmse: 6.56468\tval's rmse: 6.70537\n",
      "[700]\ttrain's rmse: 6.5168\tval's rmse: 6.67445\n",
      "[750]\ttrain's rmse: 6.46446\tval's rmse: 6.64237\n",
      "[800]\ttrain's rmse: 6.43072\tval's rmse: 6.622\n",
      "[850]\ttrain's rmse: 6.38906\tval's rmse: 6.59411\n",
      "[900]\ttrain's rmse: 6.34555\tval's rmse: 6.58765\n",
      "[950]\ttrain's rmse: 6.31132\tval's rmse: 6.57121\n",
      "[1000]\ttrain's rmse: 6.286\tval's rmse: 6.56657\n",
      "Did not meet early stopping. Best iteration is:\n",
      "[1000]\ttrain's rmse: 6.286\tval's rmse: 6.56657\n"
     ]
    }
   ],
   "source": [
    "lgb_train = lgb.Dataset(X_train, label=y_train)\n",
    "lgb_val = lgb.Dataset(X_val, label=y_val, reference=lgb_train)\n",
    "\n",
    "params = {\n",
    "    \"objective\": \"poisson\",\n",
    "    \"metric\": \"rmse\",\n",
    "    \"learning_rate\": 0.05,\n",
    "    \"num_leaves\": 63,\n",
    "    \"feature_fraction\": 0.8,\n",
    "    \"bagging_fraction\": 0.8,\n",
    "    \"bagging_freq\": 5,\n",
    "    \"min_data_in_leaf\": 20,\n",
    "    \"force_col_wise\": True,\n",
    "    \"seed\": 2025,\n",
    "}\n",
    "\n",
    "callbacks = [\n",
    "    lgb.log_evaluation(period=50),\n",
    "    lgb.early_stopping(stopping_rounds=50),\n",
    "]\n",
    "\n",
    "booster = lgb.train(\n",
    "    params,\n",
    "    lgb_train,\n",
    "    num_boost_round=1000,\n",
    "    valid_sets=[lgb_train, lgb_val],\n",
    "    valid_names=[\"train\", \"val\"],\n",
    "    callbacks=callbacks,\n",
    " )"
   ]
  },
  {
   "cell_type": "markdown",
   "id": "345f43e1",
   "metadata": {},
   "source": [
    "## Evaluate Model\n",
    "Compute RMSE and MAE on validation and test splits."
   ]
  },
  {
   "cell_type": "code",
   "execution_count": 6,
   "id": "b0aea4a6",
   "metadata": {},
   "outputs": [
    {
     "name": "stdout",
     "output_type": "stream",
     "text": [
      "Validation: {'rmse': 6.566567328113227, 'mae': 3.462467263324674}\n",
      "Test: {'rmse': 6.433329604193607, 'mae': 3.489848317544653}\n"
     ]
    }
   ],
   "source": [
    "def compute_metrics(y_true, y_pred):\n",
    "    rmse = float(np.sqrt(mean_squared_error(y_true, y_pred)))\n",
    "    mae = float(mean_absolute_error(y_true, y_pred))\n",
    "    return {\"rmse\": rmse, \"mae\": mae}\n",
    "\n",
    "val_pred = booster.predict(X_val, num_iteration=booster.best_iteration)\n",
    "test_pred = booster.predict(X_test, num_iteration=booster.best_iteration)\n",
    "\n",
    "val_metrics = compute_metrics(y_val, val_pred)\n",
    "test_metrics = compute_metrics(y_test, test_pred)\n",
    "\n",
    "print(\"Validation:\", val_metrics)\n",
    "print(\"Test:\", test_metrics)"
   ]
  },
  {
   "cell_type": "markdown",
   "id": "6d89a72f",
   "metadata": {},
   "source": [
    "## Inspect Feature Importance\n",
    "Visualize gain-based importances to understand driver features."
   ]
  },
  {
   "cell_type": "code",
   "execution_count": 7,
   "id": "3f7cf2c0",
   "metadata": {},
   "outputs": [
    {
     "data": {
      "text/html": [
       "<div>\n",
       "<style scoped>\n",
       "    .dataframe tbody tr th:only-of-type {\n",
       "        vertical-align: middle;\n",
       "    }\n",
       "\n",
       "    .dataframe tbody tr th {\n",
       "        vertical-align: top;\n",
       "    }\n",
       "\n",
       "    .dataframe thead th {\n",
       "        text-align: right;\n",
       "    }\n",
       "</style>\n",
       "<table border=\"1\" class=\"dataframe\">\n",
       "  <thead>\n",
       "    <tr style=\"text-align: right;\">\n",
       "      <th></th>\n",
       "      <th>feature</th>\n",
       "      <th>gain</th>\n",
       "      <th>split</th>\n",
       "    </tr>\n",
       "  </thead>\n",
       "  <tbody>\n",
       "    <tr>\n",
       "      <th>0</th>\n",
       "      <td>street</td>\n",
       "      <td>2.275716e+07</td>\n",
       "      <td>28504</td>\n",
       "    </tr>\n",
       "    <tr>\n",
       "      <th>2</th>\n",
       "      <td>hour_of_day</td>\n",
       "      <td>4.429607e+06</td>\n",
       "      <td>11955</td>\n",
       "    </tr>\n",
       "    <tr>\n",
       "      <th>6</th>\n",
       "      <td>hour_cos</td>\n",
       "      <td>9.246219e+05</td>\n",
       "      <td>3238</td>\n",
       "    </tr>\n",
       "    <tr>\n",
       "      <th>1</th>\n",
       "      <td>day_of_week</td>\n",
       "      <td>5.091610e+05</td>\n",
       "      <td>8428</td>\n",
       "    </tr>\n",
       "    <tr>\n",
       "      <th>5</th>\n",
       "      <td>hour_sin</td>\n",
       "      <td>3.440760e+05</td>\n",
       "      <td>3852</td>\n",
       "    </tr>\n",
       "    <tr>\n",
       "      <th>4</th>\n",
       "      <td>is_weekend</td>\n",
       "      <td>1.499950e+05</td>\n",
       "      <td>760</td>\n",
       "    </tr>\n",
       "    <tr>\n",
       "      <th>3</th>\n",
       "      <td>month</td>\n",
       "      <td>6.233925e+04</td>\n",
       "      <td>5263</td>\n",
       "    </tr>\n",
       "  </tbody>\n",
       "</table>\n",
       "</div>"
      ],
      "text/plain": [
       "       feature          gain  split\n",
       "0       street  2.275716e+07  28504\n",
       "2  hour_of_day  4.429607e+06  11955\n",
       "6     hour_cos  9.246219e+05   3238\n",
       "1  day_of_week  5.091610e+05   8428\n",
       "5     hour_sin  3.440760e+05   3852\n",
       "4   is_weekend  1.499950e+05    760\n",
       "3        month  6.233925e+04   5263"
      ]
     },
     "execution_count": 7,
     "metadata": {},
     "output_type": "execute_result"
    }
   ],
   "source": [
    "importance_df = pd.DataFrame({\n",
    "    \"feature\": feature_columns,\n",
    "    \"gain\": booster.feature_importance(importance_type=\"gain\"),\n",
    "    \"split\": booster.feature_importance(importance_type=\"split\"),\n",
    "})\n",
    "importance_df = importance_df.sort_values(\"gain\", ascending=False)\n",
    "importance_df.head(10)"
   ]
  },
  {
   "cell_type": "code",
   "execution_count": 8,
   "id": "a7203fb5",
   "metadata": {},
   "outputs": [
    {
     "name": "stderr",
     "output_type": "stream",
     "text": [
      "/var/folders/4s/_79x00ln3433_t94ty28vgl00000gn/T/ipykernel_85957/3763266876.py:2: FutureWarning: \n",
      "\n",
      "Passing `palette` without assigning `hue` is deprecated and will be removed in v0.14.0. Assign the `y` variable to `hue` and set `legend=False` for the same effect.\n",
      "\n",
      "  sns.barplot(data=importance_df.head(10), x=\"gain\", y=\"feature\", palette=\"Blues_r\")\n"
     ]
    },
    {
     "data": {
      "image/png": "[encoded data removed]",
      "text/plain": [
       "<Figure size 800x400 with 1 Axes>"
      ]
     },
     "metadata": {},
     "output_type": "display_data"
    }
   ],
   "source": [
    "plt.figure(figsize=(8, 4))\n",
    "sns.barplot(data=importance_df.head(10), x=\"gain\", y=\"feature\", palette=\"Blues_r\")\n",
    "plt.title(\"Top LightGBM Feature Importances (Gain)\")\n",
    "plt.xlabel(\"Gain\")\n",
    "plt.ylabel(\"Feature\")\n",
    "plt.tight_layout()\n",
    "plt.show()"
   ]
  },
  {
   "cell_type": "markdown",
   "id": "408e1e98",
   "metadata": {},
   "source": [
    "## Persist Artifacts\n",
    "Save the trained LightGBM model, metrics, and feature importance for downstream use."
   ]
  },
  {
   "cell_type": "code",
   "execution_count": null,
   "id": "d92f47e3",
   "metadata": {},
   "outputs": [],
   "source": [
    "booster.save_model(str(MODEL_PATH))\n",
    "importance_df.to_csv(FEATURE_IMPORTANCE_PATH, index=False)\n",
    "\n",
    "metrics_payload = {\n",
    "    \"validation\": val_metrics,\n",
    "    \"test\": test_metrics,\n",
    "    \"best_iteration\": int(booster.best_iteration),\n",
    "    \"preprocessing\": preprocessing_metadata,\n",
    "}\n",
    "with METRICS_PATH.open(\"w\", encoding=\"utf-8\") as fh:\n",
    "    json.dump(metrics_payload, fh, indent=2)\n",
    "\n",
    "MODEL_PATH, METRICS_PATH, FEATURE_IMPORTANCE_PATH"
   ]
  },
  {
   "cell_type": "markdown",
   "id": "dbb8240b",
   "metadata": {},
   "source": [
    "## Next Steps\n",
    "- Integrate the trained model into the Streamlit UI for live occupancy forecasts.\n",
    "- Schedule periodic re-training as new months of data become available.\n",
    "- Explore additional covariates (events, weather) to further reduce RMSE."
   ]
  }
 ],
 "metadata": {
  "kernelspec": {
   "display_name": ".venv",
   "language": "python",
   "name": "python3"
  },
  "language_info": {
   "codemirror_mode": {
    "name": "ipython",
    "version": 3
   },
   "file_extension": ".py",
   "mimetype": "text/x-python",
   "name": "python",
   "nbconvert_exporter": "python",
   "pygments_lexer": "ipython3",
   "version": "3.13.5"
  }
 },
 "nbformat": 4,
 "nbformat_minor": 5
}
